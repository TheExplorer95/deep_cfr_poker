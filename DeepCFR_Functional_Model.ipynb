{
 "cells": [
  {
   "cell_type": "code",
   "execution_count": 1,
   "metadata": {},
   "outputs": [],
   "source": [
    "import tensorflow as tf"
   ]
  },
  {
   "cell_type": "code",
   "execution_count": 2,
   "metadata": {},
   "outputs": [],
   "source": [
    "def get_embedding_model(output_dim, num_cards):\n",
    "    \n",
    "    input_dim_rank = 13\n",
    "    input_dim_suit = 4\n",
    "    input_dim_card = 52\n",
    "\n",
    "    cards_input = tf.keras.Input((num_cards,))\n",
    "\n",
    "    #### EMBEDDING MODEL (used for each group of cards)\n",
    "    \n",
    "    rank_embedding = tf.keras.layers.Embedding(\n",
    "        input_dim_rank, output_dim, embeddings_initializer='uniform',\n",
    "        embeddings_regularizer=None, activity_regularizer=None,\n",
    "        embeddings_constraint=None, mask_zero=False, input_length=None,\n",
    "    )\n",
    "\n",
    "    suit_embedding = tf.keras.layers.Embedding(\n",
    "        input_dim_suit, output_dim, embeddings_initializer='uniform',\n",
    "        embeddings_regularizer=None, activity_regularizer=None,\n",
    "        embeddings_constraint=None, mask_zero=False, input_length=None,\n",
    "    )\n",
    "\n",
    "    card_embedding = tf.keras.layers.Embedding(\n",
    "        input_dim_card, output_dim, embeddings_initializer='uniform',\n",
    "        embeddings_regularizer=None, activity_regularizer=None,\n",
    "        embeddings_constraint=None, mask_zero=False, input_length=None,\n",
    "    )\n",
    "\n",
    "    # cards is a list of card indices (2 for preflop, 3 for flop, 1 for turn, 1 for river)\n",
    "\n",
    "    x = tf.keras.layers.Flatten()(cards_input)\n",
    "\n",
    "    valid = tf.cast(x >= tf.constant(0.), tf.float32)\n",
    "\n",
    "    x = tf.clip_by_value(x, clip_value_min = 0, clip_value_max = 1e6)\n",
    "    \n",
    "    embs = card_embedding(x) + rank_embedding(x // 4) + suit_embedding(x%4)\n",
    "    \n",
    "    embs = embs * tf.expand_dims(valid, axis=-1)\n",
    "        \n",
    "    embs = tf.reduce_sum(embs , axis=1) # sum over num_cards card embeddings\n",
    "    \n",
    "    model = tf.keras.Model(cards_input, embs)\n",
    "    \n",
    "    return model\n",
    "\n",
    "#card1 = tf.keras.layers.Dense(output_dim)"
   ]
  },
  {
   "cell_type": "code",
   "execution_count": 3,
   "metadata": {},
   "outputs": [],
   "source": [
    "model = get_embedding_model(256, 3)"
   ]
  },
  {
   "cell_type": "code",
   "execution_count": 4,
   "metadata": {},
   "outputs": [],
   "source": [
    "cards_input = tf.constant([[[1],[10],[3]], \n",
    "                           [[1],[10],[3]], \n",
    "                           [[1],[10],[3]], \n",
    "                           [[1],[10],[3]]],dtype=tf.float32)"
   ]
  },
  {
   "cell_type": "code",
   "execution_count": 5,
   "metadata": {},
   "outputs": [
    {
     "data": {
      "text/plain": [
       "TensorShape([4, 3, 1])"
      ]
     },
     "execution_count": 5,
     "metadata": {},
     "output_type": "execute_result"
    }
   ],
   "source": [
    "cards_input.shape"
   ]
  },
  {
   "cell_type": "code",
   "execution_count": 6,
   "metadata": {},
   "outputs": [
    {
     "data": {
      "text/plain": [
       "<tf.Tensor: shape=(4, 256), dtype=float32, numpy=\n",
       "array([[ 0.07170619, -0.02860431,  0.05638808, ...,  0.08935839,\n",
       "        -0.02575767,  0.03144985],\n",
       "       [ 0.07170619, -0.02860431,  0.05638808, ...,  0.08935839,\n",
       "        -0.02575767,  0.03144985],\n",
       "       [ 0.07170619, -0.02860431,  0.05638808, ...,  0.08935839,\n",
       "        -0.02575767,  0.03144985],\n",
       "       [ 0.07170619, -0.02860431,  0.05638808, ...,  0.08935839,\n",
       "        -0.02575767,  0.03144985]], dtype=float32)>"
      ]
     },
     "execution_count": 6,
     "metadata": {},
     "output_type": "execute_result"
    }
   ],
   "source": [
    "model(cards_input)"
   ]
  },
  {
   "cell_type": "code",
   "execution_count": 7,
   "metadata": {},
   "outputs": [],
   "source": [
    "def get_DeepCFR_model(output_dim, n_cards, n_bets, n_actions):\n",
    "    \"\"\"\n",
    "    output_dim: dimensionality of embedding\n",
    "    n_cards: a list of card numbers for each phase of the game (e.g. 2 preflop, 3 flop)\n",
    "    n_bets: maximal number of bets in a game\n",
    "    n_actions: number of possible action categories\n",
    "    \"\"\"\n",
    "    \n",
    "    # define inputs\n",
    "    cards = [tf.keras.Input([n,]) for n in n_cards]\n",
    "    bets = tf.keras.Input([n_bets,])\n",
    "\n",
    "    ### define layers\n",
    "\n",
    "    # embedding layer for each card type (pre-flop, flop, turn, river)\n",
    "    output_dims = [output_dim for _ in range(len(n_cards))]\n",
    "    \n",
    "    embedding_layers = [get_embedding_model(output_dim, num_cards) for num_cards, \n",
    "                        num_output_dims in zip(n_cards, output_dims)]\n",
    "\n",
    "    card1 = tf.keras.layers.Dense(output_dim, activation = \"relu\")\n",
    "    card2 = tf.keras.layers.Dense(output_dim, activation = \"relu\")\n",
    "    card3 = tf.keras.layers.Dense(output_dim, activation = \"relu\")\n",
    "\n",
    "    bet1 = tf.keras.layers.Dense(output_dim)\n",
    "    bet2 = tf.keras.layers.Dense(output_dim)\n",
    "\n",
    "    comb1 = tf.keras.layers.Dense(output_dim)\n",
    "    comb2 = tf.keras.layers.Dense(output_dim)\n",
    "    comb3 = tf.keras.layers.Dense(output_dim)\n",
    "\n",
    "    action_head = tf.keras.layers.Dense(n_actions)\n",
    "\n",
    "\n",
    "    # card branch\n",
    "    card_embs = []\n",
    "    for embedding, card_group in zip(embedding_layers, cards):\n",
    "        card_embs.append(embedding(card_group))\n",
    "\n",
    "    card_embs = tf.concat(card_embs, axis= 1)\n",
    "\n",
    "    x = card1(card_embs)\n",
    "    x = card2(x)\n",
    "    x = card3(x)\n",
    "\n",
    "    # bet branch\n",
    "    bet_size = tf.clip_by_value(bets, tf.constant(0.), tf.constant(1e6)) # clip bet sizes\n",
    "    bets_occured = tf.cast(bets >= tf.constant(0.), tf.float32) # check if bet occured\n",
    "    bet_features = tf.concat([bet_size, bets_occured], axis = -1)   # bet size and boolean bet\n",
    "    y = bet1(bet_features)\n",
    "    y = bet2(y)\n",
    "    \n",
    "    # combine bet history and card embedding branches\n",
    "    z = tf.concat([x,y],axis=-1)\n",
    "    z = comb1(z)\n",
    "    z = tf.nn.relu(comb2(z) + z)\n",
    "    z = tf.nn.relu(comb3(z) + z)\n",
    "\n",
    "    # normalize (needed because of bet sizes)\n",
    "    z = (z - tf.math.reduce_mean(z, axis=None)) / tf.math.reduce_std(z, axis=None)\n",
    "\n",
    "    output = action_head(z)\n",
    "\n",
    "\n",
    "    DeepCFR_model = tf.keras.Model(inputs = [cards, bets], outputs = output)\n",
    "    \n",
    "    return DeepCFR_model"
   ]
  },
  {
   "cell_type": "code",
   "execution_count": 8,
   "metadata": {},
   "outputs": [],
   "source": [
    "DeepCFR_model = get_DeepCFR_model(output_dim = 256, n_cards = [2,3], n_bets = 4, n_actions = 3)"
   ]
  },
  {
   "cell_type": "code",
   "execution_count": 9,
   "metadata": {},
   "outputs": [
    {
     "data": {
      "text/plain": [
       "array([[-0.13098928, -1.6364983 , -1.7688687 ]], dtype=float32)"
      ]
     },
     "execution_count": 9,
     "metadata": {},
     "output_type": "execute_result"
    }
   ],
   "source": [
    "### Test Deep CFR Model with batch size of 4\n",
    "\n",
    "hole_cards = tf.constant( [   \n",
    "    [[1],[10]],                            \n",
    "    #[[7],[19]],                          \n",
    "    #[[35],[51]],                         \n",
    "    #[[23],[12]]                           \n",
    "],dtype=tf.float32)\n",
    "\n",
    "\n",
    "flop = tf.constant([\n",
    "    [[2],[9],[8]],            \n",
    "    #[[2],[9],[8]],         \n",
    "    #[[2],[9],[8]],           \n",
    "    #[[2],[9],[8]]\n",
    "], dtype = tf.float32)\n",
    "\n",
    "cards_inp = [hole_cards, flop]\n",
    "\n",
    "bets = tf.constant([\n",
    "    [1,2,2,4],                  \n",
    "    #[1,0,2,4],                \n",
    "    #[1,0,2,4],                \n",
    "    #[1,0,2,4]\n",
    "], dtype= tf.float32)\n",
    "\n",
    "\n",
    "DeepCFR_model([cards_inp, bets]).numpy()"
   ]
  },
  {
   "cell_type": "code",
   "execution_count": 31,
   "metadata": {},
   "outputs": [],
   "source": [
    "#tf.keras.utils.plot_model(DeepCFR_model, \"plotmodel.png\")"
   ]
  },
  {
   "cell_type": "code",
   "execution_count": 11,
   "metadata": {},
   "outputs": [
    {
     "data": {
      "text/plain": [
       "[[<tf.Tensor: shape=(1, 2, 1), dtype=float32, numpy=\n",
       "  array([[[ 1.],\n",
       "          [10.]]], dtype=float32)>,\n",
       "  <tf.Tensor: shape=(1, 3, 1), dtype=float32, numpy=\n",
       "  array([[[2.],\n",
       "          [9.],\n",
       "          [8.]]], dtype=float32)>],\n",
       " <tf.Tensor: shape=(1, 4), dtype=float32, numpy=array([[1., 2., 2., 4.]], dtype=float32)>]"
      ]
     },
     "execution_count": 11,
     "metadata": {},
     "output_type": "execute_result"
    }
   ],
   "source": [
    "[cards_inp, bets]"
   ]
  },
  {
   "cell_type": "code",
   "execution_count": null,
   "metadata": {},
   "outputs": [],
   "source": []
  },
  {
   "cell_type": "code",
   "execution_count": null,
   "metadata": {},
   "outputs": [],
   "source": []
  }
 ],
 "metadata": {
  "kernelspec": {
   "display_name": "Python 3",
   "language": "python",
   "name": "python3"
  },
  "language_info": {
   "codemirror_mode": {
    "name": "ipython",
    "version": 3
   },
   "file_extension": ".py",
   "mimetype": "text/x-python",
   "name": "python",
   "nbconvert_exporter": "python",
   "pygments_lexer": "ipython3",
   "version": "3.8.8"
  }
 },
 "nbformat": 4,
 "nbformat_minor": 4
}
