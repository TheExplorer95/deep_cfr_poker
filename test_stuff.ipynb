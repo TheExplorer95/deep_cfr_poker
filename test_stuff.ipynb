{
 "cells": [
  {
   "cell_type": "code",
   "execution_count": 11,
   "id": "303ea071",
   "metadata": {
    "ExecuteTime": {
     "end_time": "2021-04-26T11:57:56.033633Z",
     "start_time": "2021-04-26T11:57:56.028722Z"
    }
   },
   "outputs": [
    {
     "name": "stdout",
     "output_type": "stream",
     "text": [
      "[INFO] - Models trained on GPU, with memory growth activated.\n"
     ]
    }
   ],
   "source": [
    "from utils import get_info_state, print_obs\n",
    "import os, pickle\n",
    "from datetime import datetime\n",
    "import tensorflow as tf\n",
    "import clubs\n",
    "import clubs_gym\n",
    "import gym\n",
    "from jupyter_nb_utils import cumulative_reward, plot_results, live_plot\n",
    "from poker_agent import MinRaiseAgent, Bet_Fct, TensorflowAgent\n",
    "from random import shuffle\n",
    "import numpy as np\n",
    "import time\n",
    "from IPython.display import clear_output\n",
    "from tqdm import trange\n",
    "from deep_CFR_model import get_DeepCFR_model\n",
    "from training_utils import get_tf_dataset\n",
    "\n",
    "%matplotlib inline"
   ]
  },
  {
   "cell_type": "code",
   "execution_count": null,
   "id": "230728f0",
   "metadata": {},
   "outputs": [],
   "source": [
    "from utils import activate_memory_growth; activate_memory_growth(cpu=False)\n"
   ]
  },
  {
   "cell_type": "code",
   "execution_count": 10,
   "id": "64810bcb",
   "metadata": {
    "ExecuteTime": {
     "end_time": "2021-04-26T11:54:33.687770Z",
     "start_time": "2021-04-26T11:54:33.474323Z"
    }
   },
   "outputs": [],
   "source": [
    "model = get_DeepCFR_model(256, [2, 3], 10, 4)"
   ]
  },
  {
   "cell_type": "code",
   "execution_count": 12,
   "id": "80f1b0e5",
   "metadata": {
    "ExecuteTime": {
     "end_time": "2021-04-26T11:59:57.938447Z",
     "start_time": "2021-04-26T11:59:57.936861Z"
    }
   },
   "outputs": [],
   "source": [
    "file_name = 'tmp/advantage_memory_0.h5'"
   ]
  },
  {
   "cell_type": "code",
   "execution_count": 13,
   "id": "91a61091",
   "metadata": {
    "ExecuteTime": {
     "end_time": "2021-04-26T11:59:58.786647Z",
     "start_time": "2021-04-26T11:59:58.768291Z"
    }
   },
   "outputs": [],
   "source": [
    "train_ds = get_tf_dataset(file_name,\n",
    "                          batch_size=10_000,\n",
    "                          num_infostates=100_000,\n",
    "                          num_cards=5,\n",
    "                          num_bets=10,\n",
    "                          num_actions=4)"
   ]
  },
  {
   "cell_type": "code",
   "execution_count": 14,
   "id": "52857db7",
   "metadata": {
    "ExecuteTime": {
     "end_time": "2021-04-26T12:01:01.602321Z",
     "start_time": "2021-04-26T12:01:01.591701Z"
    }
   },
   "outputs": [],
   "source": [
    "opt = tf.keras.optimizers.Adam(0.001)\n",
    "model.compile(optimizer=opt)"
   ]
  },
  {
   "cell_type": "code",
   "execution_count": 16,
   "id": "a354e3b4",
   "metadata": {
    "ExecuteTime": {
     "end_time": "2021-04-26T12:01:44.321606Z",
     "start_time": "2021-04-26T12:01:11.471661Z"
    }
   },
   "outputs": [
    {
     "name": "stdout",
     "output_type": "stream",
     "text": [
      "      6/Unknown - 28s 5s/step - loss: 7.3183"
     ]
    },
    {
     "ename": "KeyboardInterrupt",
     "evalue": "",
     "output_type": "error",
     "traceback": [
      "\u001b[0;31m---------------------------------------------------------------------------\u001b[0m",
      "\u001b[0;31mKeyboardInterrupt\u001b[0m                         Traceback (most recent call last)",
      "\u001b[0;32m<ipython-input-16-40974ca24df3>\u001b[0m in \u001b[0;36m<module>\u001b[0;34m\u001b[0m\n\u001b[0;32m----> 1\u001b[0;31m \u001b[0mhistory\u001b[0m \u001b[0;34m=\u001b[0m \u001b[0mmodel\u001b[0m\u001b[0;34m.\u001b[0m\u001b[0mfit\u001b[0m\u001b[0;34m(\u001b[0m\u001b[0mtrain_ds\u001b[0m\u001b[0;34m.\u001b[0m\u001b[0mtake\u001b[0m\u001b[0;34m(\u001b[0m\u001b[0;36m10\u001b[0m\u001b[0;34m)\u001b[0m\u001b[0;34m)\u001b[0m\u001b[0;34m\u001b[0m\u001b[0;34m\u001b[0m\u001b[0m\n\u001b[0m",
      "\u001b[0;32m~/.miniconda3/envs/poker/lib/python3.8/site-packages/tensorflow/python/keras/engine/training.py\u001b[0m in \u001b[0;36mfit\u001b[0;34m(self, x, y, batch_size, epochs, verbose, callbacks, validation_split, validation_data, shuffle, class_weight, sample_weight, initial_epoch, steps_per_epoch, validation_steps, validation_batch_size, validation_freq, max_queue_size, workers, use_multiprocessing)\u001b[0m\n\u001b[1;32m   1098\u001b[0m                 _r=1):\n\u001b[1;32m   1099\u001b[0m               \u001b[0mcallbacks\u001b[0m\u001b[0;34m.\u001b[0m\u001b[0mon_train_batch_begin\u001b[0m\u001b[0;34m(\u001b[0m\u001b[0mstep\u001b[0m\u001b[0;34m)\u001b[0m\u001b[0;34m\u001b[0m\u001b[0;34m\u001b[0m\u001b[0m\n\u001b[0;32m-> 1100\u001b[0;31m               \u001b[0mtmp_logs\u001b[0m \u001b[0;34m=\u001b[0m \u001b[0mself\u001b[0m\u001b[0;34m.\u001b[0m\u001b[0mtrain_function\u001b[0m\u001b[0;34m(\u001b[0m\u001b[0miterator\u001b[0m\u001b[0;34m)\u001b[0m\u001b[0;34m\u001b[0m\u001b[0;34m\u001b[0m\u001b[0m\n\u001b[0m\u001b[1;32m   1101\u001b[0m               \u001b[0;32mif\u001b[0m \u001b[0mdata_handler\u001b[0m\u001b[0;34m.\u001b[0m\u001b[0mshould_sync\u001b[0m\u001b[0;34m:\u001b[0m\u001b[0;34m\u001b[0m\u001b[0;34m\u001b[0m\u001b[0m\n\u001b[1;32m   1102\u001b[0m                 \u001b[0mcontext\u001b[0m\u001b[0;34m.\u001b[0m\u001b[0masync_wait\u001b[0m\u001b[0;34m(\u001b[0m\u001b[0;34m)\u001b[0m\u001b[0;34m\u001b[0m\u001b[0;34m\u001b[0m\u001b[0m\n",
      "\u001b[0;32m~/.miniconda3/envs/poker/lib/python3.8/site-packages/tensorflow/python/eager/def_function.py\u001b[0m in \u001b[0;36m__call__\u001b[0;34m(self, *args, **kwds)\u001b[0m\n\u001b[1;32m    826\u001b[0m     \u001b[0mtracing_count\u001b[0m \u001b[0;34m=\u001b[0m \u001b[0mself\u001b[0m\u001b[0;34m.\u001b[0m\u001b[0mexperimental_get_tracing_count\u001b[0m\u001b[0;34m(\u001b[0m\u001b[0;34m)\u001b[0m\u001b[0;34m\u001b[0m\u001b[0;34m\u001b[0m\u001b[0m\n\u001b[1;32m    827\u001b[0m     \u001b[0;32mwith\u001b[0m \u001b[0mtrace\u001b[0m\u001b[0;34m.\u001b[0m\u001b[0mTrace\u001b[0m\u001b[0;34m(\u001b[0m\u001b[0mself\u001b[0m\u001b[0;34m.\u001b[0m\u001b[0m_name\u001b[0m\u001b[0;34m)\u001b[0m \u001b[0;32mas\u001b[0m \u001b[0mtm\u001b[0m\u001b[0;34m:\u001b[0m\u001b[0;34m\u001b[0m\u001b[0;34m\u001b[0m\u001b[0m\n\u001b[0;32m--> 828\u001b[0;31m       \u001b[0mresult\u001b[0m \u001b[0;34m=\u001b[0m \u001b[0mself\u001b[0m\u001b[0;34m.\u001b[0m\u001b[0m_call\u001b[0m\u001b[0;34m(\u001b[0m\u001b[0;34m*\u001b[0m\u001b[0margs\u001b[0m\u001b[0;34m,\u001b[0m \u001b[0;34m**\u001b[0m\u001b[0mkwds\u001b[0m\u001b[0;34m)\u001b[0m\u001b[0;34m\u001b[0m\u001b[0;34m\u001b[0m\u001b[0m\n\u001b[0m\u001b[1;32m    829\u001b[0m       \u001b[0mcompiler\u001b[0m \u001b[0;34m=\u001b[0m \u001b[0;34m\"xla\"\u001b[0m \u001b[0;32mif\u001b[0m \u001b[0mself\u001b[0m\u001b[0;34m.\u001b[0m\u001b[0m_experimental_compile\u001b[0m \u001b[0;32melse\u001b[0m \u001b[0;34m\"nonXla\"\u001b[0m\u001b[0;34m\u001b[0m\u001b[0;34m\u001b[0m\u001b[0m\n\u001b[1;32m    830\u001b[0m       \u001b[0mnew_tracing_count\u001b[0m \u001b[0;34m=\u001b[0m \u001b[0mself\u001b[0m\u001b[0;34m.\u001b[0m\u001b[0mexperimental_get_tracing_count\u001b[0m\u001b[0;34m(\u001b[0m\u001b[0;34m)\u001b[0m\u001b[0;34m\u001b[0m\u001b[0;34m\u001b[0m\u001b[0m\n",
      "\u001b[0;32m~/.miniconda3/envs/poker/lib/python3.8/site-packages/tensorflow/python/eager/def_function.py\u001b[0m in \u001b[0;36m_call\u001b[0;34m(self, *args, **kwds)\u001b[0m\n\u001b[1;32m    853\u001b[0m       \u001b[0;31m# In this case we have created variables on the first call, so we run the\u001b[0m\u001b[0;34m\u001b[0m\u001b[0;34m\u001b[0m\u001b[0;34m\u001b[0m\u001b[0m\n\u001b[1;32m    854\u001b[0m       \u001b[0;31m# defunned version which is guaranteed to never create variables.\u001b[0m\u001b[0;34m\u001b[0m\u001b[0;34m\u001b[0m\u001b[0;34m\u001b[0m\u001b[0m\n\u001b[0;32m--> 855\u001b[0;31m       \u001b[0;32mreturn\u001b[0m \u001b[0mself\u001b[0m\u001b[0;34m.\u001b[0m\u001b[0m_stateless_fn\u001b[0m\u001b[0;34m(\u001b[0m\u001b[0;34m*\u001b[0m\u001b[0margs\u001b[0m\u001b[0;34m,\u001b[0m \u001b[0;34m**\u001b[0m\u001b[0mkwds\u001b[0m\u001b[0;34m)\u001b[0m  \u001b[0;31m# pylint: disable=not-callable\u001b[0m\u001b[0;34m\u001b[0m\u001b[0;34m\u001b[0m\u001b[0m\n\u001b[0m\u001b[1;32m    856\u001b[0m     \u001b[0;32melif\u001b[0m \u001b[0mself\u001b[0m\u001b[0;34m.\u001b[0m\u001b[0m_stateful_fn\u001b[0m \u001b[0;32mis\u001b[0m \u001b[0;32mnot\u001b[0m \u001b[0;32mNone\u001b[0m\u001b[0;34m:\u001b[0m\u001b[0;34m\u001b[0m\u001b[0;34m\u001b[0m\u001b[0m\n\u001b[1;32m    857\u001b[0m       \u001b[0;31m# Release the lock early so that multiple threads can perform the call\u001b[0m\u001b[0;34m\u001b[0m\u001b[0;34m\u001b[0m\u001b[0;34m\u001b[0m\u001b[0m\n",
      "\u001b[0;32m~/.miniconda3/envs/poker/lib/python3.8/site-packages/tensorflow/python/eager/function.py\u001b[0m in \u001b[0;36m__call__\u001b[0;34m(self, *args, **kwargs)\u001b[0m\n\u001b[1;32m   2940\u001b[0m       (graph_function,\n\u001b[1;32m   2941\u001b[0m        filtered_flat_args) = self._maybe_define_function(args, kwargs)\n\u001b[0;32m-> 2942\u001b[0;31m     return graph_function._call_flat(\n\u001b[0m\u001b[1;32m   2943\u001b[0m         filtered_flat_args, captured_inputs=graph_function.captured_inputs)  # pylint: disable=protected-access\n\u001b[1;32m   2944\u001b[0m \u001b[0;34m\u001b[0m\u001b[0m\n",
      "\u001b[0;32m~/.miniconda3/envs/poker/lib/python3.8/site-packages/tensorflow/python/eager/function.py\u001b[0m in \u001b[0;36m_call_flat\u001b[0;34m(self, args, captured_inputs, cancellation_manager)\u001b[0m\n\u001b[1;32m   1916\u001b[0m         and executing_eagerly):\n\u001b[1;32m   1917\u001b[0m       \u001b[0;31m# No tape is watching; skip to running the function.\u001b[0m\u001b[0;34m\u001b[0m\u001b[0;34m\u001b[0m\u001b[0;34m\u001b[0m\u001b[0m\n\u001b[0;32m-> 1918\u001b[0;31m       return self._build_call_outputs(self._inference_function.call(\n\u001b[0m\u001b[1;32m   1919\u001b[0m           ctx, args, cancellation_manager=cancellation_manager))\n\u001b[1;32m   1920\u001b[0m     forward_backward = self._select_forward_and_backward_functions(\n",
      "\u001b[0;32m~/.miniconda3/envs/poker/lib/python3.8/site-packages/tensorflow/python/eager/function.py\u001b[0m in \u001b[0;36mcall\u001b[0;34m(self, ctx, args, cancellation_manager)\u001b[0m\n\u001b[1;32m    553\u001b[0m       \u001b[0;32mwith\u001b[0m \u001b[0m_InterpolateFunctionError\u001b[0m\u001b[0;34m(\u001b[0m\u001b[0mself\u001b[0m\u001b[0;34m)\u001b[0m\u001b[0;34m:\u001b[0m\u001b[0;34m\u001b[0m\u001b[0;34m\u001b[0m\u001b[0m\n\u001b[1;32m    554\u001b[0m         \u001b[0;32mif\u001b[0m \u001b[0mcancellation_manager\u001b[0m \u001b[0;32mis\u001b[0m \u001b[0;32mNone\u001b[0m\u001b[0;34m:\u001b[0m\u001b[0;34m\u001b[0m\u001b[0;34m\u001b[0m\u001b[0m\n\u001b[0;32m--> 555\u001b[0;31m           outputs = execute.execute(\n\u001b[0m\u001b[1;32m    556\u001b[0m               \u001b[0mstr\u001b[0m\u001b[0;34m(\u001b[0m\u001b[0mself\u001b[0m\u001b[0;34m.\u001b[0m\u001b[0msignature\u001b[0m\u001b[0;34m.\u001b[0m\u001b[0mname\u001b[0m\u001b[0;34m)\u001b[0m\u001b[0;34m,\u001b[0m\u001b[0;34m\u001b[0m\u001b[0;34m\u001b[0m\u001b[0m\n\u001b[1;32m    557\u001b[0m               \u001b[0mnum_outputs\u001b[0m\u001b[0;34m=\u001b[0m\u001b[0mself\u001b[0m\u001b[0;34m.\u001b[0m\u001b[0m_num_outputs\u001b[0m\u001b[0;34m,\u001b[0m\u001b[0;34m\u001b[0m\u001b[0;34m\u001b[0m\u001b[0m\n",
      "\u001b[0;32m~/.miniconda3/envs/poker/lib/python3.8/site-packages/tensorflow/python/eager/execute.py\u001b[0m in \u001b[0;36mquick_execute\u001b[0;34m(op_name, num_outputs, inputs, attrs, ctx, name)\u001b[0m\n\u001b[1;32m     57\u001b[0m   \u001b[0;32mtry\u001b[0m\u001b[0;34m:\u001b[0m\u001b[0;34m\u001b[0m\u001b[0;34m\u001b[0m\u001b[0m\n\u001b[1;32m     58\u001b[0m     \u001b[0mctx\u001b[0m\u001b[0;34m.\u001b[0m\u001b[0mensure_initialized\u001b[0m\u001b[0;34m(\u001b[0m\u001b[0;34m)\u001b[0m\u001b[0;34m\u001b[0m\u001b[0;34m\u001b[0m\u001b[0m\n\u001b[0;32m---> 59\u001b[0;31m     tensors = pywrap_tfe.TFE_Py_Execute(ctx._handle, device_name, op_name,\n\u001b[0m\u001b[1;32m     60\u001b[0m                                         inputs, attrs, num_outputs)\n\u001b[1;32m     61\u001b[0m   \u001b[0;32mexcept\u001b[0m \u001b[0mcore\u001b[0m\u001b[0;34m.\u001b[0m\u001b[0m_NotOkStatusException\u001b[0m \u001b[0;32mas\u001b[0m \u001b[0me\u001b[0m\u001b[0;34m:\u001b[0m\u001b[0;34m\u001b[0m\u001b[0;34m\u001b[0m\u001b[0m\n",
      "\u001b[0;31mKeyboardInterrupt\u001b[0m: "
     ]
    }
   ],
   "source": [
    "history = model.fit(train_ds.take(10))"
   ]
  },
  {
   "cell_type": "code",
   "execution_count": null,
   "id": "2f6511d0",
   "metadata": {},
   "outputs": [],
   "source": []
  },
  {
   "cell_type": "code",
   "execution_count": null,
   "id": "5f454e67",
   "metadata": {},
   "outputs": [],
   "source": []
  },
  {
   "cell_type": "code",
   "execution_count": null,
   "id": "1115f6e1",
   "metadata": {},
   "outputs": [],
   "source": []
  },
  {
   "cell_type": "code",
   "execution_count": null,
   "id": "f3dd90ec",
   "metadata": {},
   "outputs": [],
   "source": []
  },
  {
   "cell_type": "code",
   "execution_count": null,
   "id": "95f666cf",
   "metadata": {},
   "outputs": [],
   "source": []
  },
  {
   "cell_type": "code",
   "execution_count": 2,
   "id": "a51b1a9b",
   "metadata": {
    "ExecuteTime": {
     "end_time": "2021-04-24T19:52:54.254332Z",
     "start_time": "2021-04-24T19:52:54.252713Z"
    }
   },
   "outputs": [],
   "source": [
    "render_mode = 'Terminal'\n",
    "save_plot = True\n",
    "eval_strategy_net = False"
   ]
  },
  {
   "cell_type": "markdown",
   "id": "98f3faa0",
   "metadata": {},
   "source": [
    "## Parameter settings for the Agents"
   ]
  },
  {
   "cell_type": "code",
   "execution_count": 3,
   "id": "03574ac3",
   "metadata": {
    "ExecuteTime": {
     "end_time": "2021-04-24T19:52:54.266067Z",
     "start_time": "2021-04-24T19:52:54.255193Z"
    }
   },
   "outputs": [],
   "source": [
    "agent_fct = MinRaiseAgent"
   ]
  },
  {
   "cell_type": "code",
   "execution_count": 4,
   "id": "cdca8f69",
   "metadata": {
    "ExecuteTime": {
     "end_time": "2021-04-24T19:52:54.271032Z",
     "start_time": "2021-04-24T19:52:54.266847Z"
    }
   },
   "outputs": [],
   "source": [
    "random_model_path = 'trained_models/action_models/random_model'\n",
    "agent_fct = TensorflowAgent\n",
    "action_function = action_fct('action')"
   ]
  },
  {
   "cell_type": "markdown",
   "id": "dce34af0",
   "metadata": {},
   "source": [
    "## Parameter settings for the poker (clubs_gym) environment"
   ]
  },
  {
   "cell_type": "code",
   "execution_count": 5,
   "id": "cfce5eab",
   "metadata": {
    "ExecuteTime": {
     "end_time": "2021-04-24T19:52:54.277939Z",
     "start_time": "2021-04-24T19:52:54.271815Z"
    }
   },
   "outputs": [],
   "source": [
    "# Set game parameters\n",
    "env_str = 'LDRL-Poker-v0'\n",
    "num_players = 2\n",
    "num_streets = 2\n",
    "num_raises = 3\n",
    "num_actions = 4\n",
    "num_cards = [2, 3]\n",
    "num_suits = 4\n",
    "num_ranks = 13\n",
    "\n",
    "# automatic setting of some params\n",
    "n_community_cards = [0] + num_cards[1:]\n",
    "n_cards_for_hand = min(5, sum(num_cards))\n",
    "max_bet_number = num_players * num_streets * num_raises\n",
    "\n",
    "# environment params dict\n",
    "config_dict = {'num_players': num_players,\n",
    "               'num_streets': num_streets,\n",
    "               'blinds': [1, 2],\n",
    "               'antes': 0,\n",
    "               'raise_sizes': 'pot',\n",
    "               'num_raises': num_raises,\n",
    "               'num_suits': num_suits,\n",
    "               'num_ranks': num_ranks,\n",
    "               'num_hole_cards': num_cards[0],\n",
    "               'mandatory_num_hole_cards': 0,\n",
    "               'num_community_cards': n_community_cards,\n",
    "               'start_stack': 1_000_000,\n",
    "               'num_cards_for_hand': n_cards_for_hand}"
   ]
  },
  {
   "cell_type": "markdown",
   "id": "6b97305f",
   "metadata": {},
   "source": [
    "## Initialization of the Poker environment"
   ]
  },
  {
   "cell_type": "code",
   "execution_count": 6,
   "id": "4b45af66",
   "metadata": {
    "ExecuteTime": {
     "end_time": "2021-04-24T19:52:54.439132Z",
     "start_time": "2021-04-24T19:52:54.278703Z"
    }
   },
   "outputs": [
    {
     "ename": "OSError",
     "evalue": "SavedModel file does not exist at: trained_models/action_models/random_model/{saved_model.pbtxt|saved_model.pb}",
     "output_type": "error",
     "traceback": [
      "\u001b[0;31m-----------------------------------------\u001b[0m",
      "\u001b[0;31mOSError\u001b[0m Traceback (most recent call last)",
      "\u001b[0;32m<ipython-input-6-40faa1c9b830>\u001b[0m in \u001b[0;36m<module>\u001b[0;34m\u001b[0m\n\u001b[1;32m      2\u001b[0m \u001b[0menv\u001b[0m \u001b[0;34m=\u001b[0m \u001b[0mgym\u001b[0m\u001b[0;34m.\u001b[0m\u001b[0mmake\u001b[0m\u001b[0;34m(\u001b[0m\u001b[0menv_str\u001b[0m\u001b[0;34m)\u001b[0m\u001b[0;34m\u001b[0m\u001b[0;34m\u001b[0m\u001b[0m\n\u001b[1;32m      3\u001b[0m \u001b[0;31m# env.register_agents([agent_fct() for _ in range(2)])\u001b[0m\u001b[0;34m\u001b[0m\u001b[0;34m\u001b[0m\u001b[0;34m\u001b[0m\u001b[0m\n\u001b[0;32m----> 4\u001b[0;31m \u001b[0menv\u001b[0m\u001b[0;34m.\u001b[0m\u001b[0mregister_agents\u001b[0m\u001b[0;34m(\u001b[0m\u001b[0;34m[\u001b[0m\u001b[0magent_fct\u001b[0m\u001b[0;34m(\u001b[0m\u001b[0mmodel_save_path\u001b[0m\u001b[0;34m)\u001b[0m \u001b[0;32mfor\u001b[0m \u001b[0mmodel_save_path\u001b[0m \u001b[0;32min\u001b[0m \u001b[0;34m[\u001b[0m\u001b[0mrandom_model_path\u001b[0m\u001b[0;34m,\u001b[0m \u001b[0mrandom_model_path\u001b[0m\u001b[0;34m]\u001b[0m\u001b[0;34m]\u001b[0m\u001b[0;34m)\u001b[0m\u001b[0;34m\u001b[0m\u001b[0;34m\u001b[0m\u001b[0m\n\u001b[0m",
      "\u001b[0;32m<ipython-input-6-40faa1c9b830>\u001b[0m in \u001b[0;36m<listcomp>\u001b[0;34m(.0)\u001b[0m\n\u001b[1;32m      2\u001b[0m \u001b[0menv\u001b[0m \u001b[0;34m=\u001b[0m \u001b[0mgym\u001b[0m\u001b[0;34m.\u001b[0m\u001b[0mmake\u001b[0m\u001b[0;34m(\u001b[0m\u001b[0menv_str\u001b[0m\u001b[0;34m)\u001b[0m\u001b[0;34m\u001b[0m\u001b[0;34m\u001b[0m\u001b[0m\n\u001b[1;32m      3\u001b[0m \u001b[0;31m# env.register_agents([agent_fct() for _ in range(2)])\u001b[0m\u001b[0;34m\u001b[0m\u001b[0;34m\u001b[0m\u001b[0;34m\u001b[0m\u001b[0m\n\u001b[0;32m----> 4\u001b[0;31m \u001b[0menv\u001b[0m\u001b[0;34m.\u001b[0m\u001b[0mregister_agents\u001b[0m\u001b[0;34m(\u001b[0m\u001b[0;34m[\u001b[0m\u001b[0magent_fct\u001b[0m\u001b[0;34m(\u001b[0m\u001b[0mmodel_save_path\u001b[0m\u001b[0;34m)\u001b[0m \u001b[0;32mfor\u001b[0m \u001b[0mmodel_save_path\u001b[0m \u001b[0;32min\u001b[0m \u001b[0;34m[\u001b[0m\u001b[0mrandom_model_path\u001b[0m\u001b[0;34m,\u001b[0m \u001b[0mrandom_model_path\u001b[0m\u001b[0;34m]\u001b[0m\u001b[0;34m]\u001b[0m\u001b[0;34m)\u001b[0m\u001b[0;34m\u001b[0m\u001b[0;34m\u001b[0m\u001b[0m\n\u001b[0m",
      "\u001b[0;32m~/Code/deepRL_project/ray_code/PokerAgent.py\u001b[0m in \u001b[0;36m__init__\u001b[0;34m(self, model_path, regr_matching)\u001b[0m\n\u001b[1;32m     81\u001b[0m \u001b[0;34m\u001b[0m\u001b[0m\n\u001b[1;32m     82\u001b[0m         \u001b[0;31m# instantiate tensorflow model (functional api if possible)\u001b[0m\u001b[0;34m\u001b[0m\u001b[0;34m\u001b[0m\u001b[0;34m\u001b[0m\u001b[0m\n\u001b[0;32m---> 83\u001b[0;31m         \u001b[0mself\u001b[0m\u001b[0;34m.\u001b[0m\u001b[0mmodel\u001b[0m \u001b[0;34m=\u001b[0m \u001b[0mtf\u001b[0m\u001b[0;34m.\u001b[0m\u001b[0mkeras\u001b[0m\u001b[0;34m.\u001b[0m\u001b[0mmodels\u001b[0m\u001b[0;34m.\u001b[0m\u001b[0mload_model\u001b[0m\u001b[0;34m(\u001b[0m\u001b[0mmodel_path\u001b[0m\u001b[0;34m,\u001b[0m \u001b[0mcompile\u001b[0m\u001b[0;34m=\u001b[0m\u001b[0;32mFalse\u001b[0m\u001b[0;34m)\u001b[0m\u001b[0;34m\u001b[0m\u001b[0;34m\u001b[0m\u001b[0m\n\u001b[0m\u001b[1;32m     84\u001b[0m         \u001b[0mself\u001b[0m\u001b[0;34m.\u001b[0m\u001b[0mbet_history\u001b[0m \u001b[0;34m=\u001b[0m \u001b[0;34m[\u001b[0m\u001b[0;34m]\u001b[0m\u001b[0;34m\u001b[0m\u001b[0;34m\u001b[0m\u001b[0m\n\u001b[1;32m     85\u001b[0m         \u001b[0mself\u001b[0m\u001b[0;34m.\u001b[0m\u001b[0mregr_matching\u001b[0m \u001b[0;34m=\u001b[0m \u001b[0mregr_matching\u001b[0m\u001b[0;34m\u001b[0m\u001b[0;34m\u001b[0m\u001b[0m\n",
      "\u001b[0;32m~/.miniconda3/envs/poker/lib/python3.8/site-packages/tensorflow/python/keras/saving/save.py\u001b[0m in \u001b[0;36mload_model\u001b[0;34m(filepath, custom_objects, compile, options)\u001b[0m\n\u001b[1;32m    209\u001b[0m       \u001b[0mfilepath\u001b[0m \u001b[0;34m=\u001b[0m \u001b[0mpath_to_string\u001b[0m\u001b[0;34m(\u001b[0m\u001b[0mfilepath\u001b[0m\u001b[0;34m)\u001b[0m\u001b[0;34m\u001b[0m\u001b[0;34m\u001b[0m\u001b[0m\n\u001b[1;32m    210\u001b[0m       \u001b[0;32mif\u001b[0m \u001b[0misinstance\u001b[0m\u001b[0;34m(\u001b[0m\u001b[0mfilepath\u001b[0m\u001b[0;34m,\u001b[0m \u001b[0msix\u001b[0m\u001b[0;34m.\u001b[0m\u001b[0mstring_types\u001b[0m\u001b[0;34m)\u001b[0m\u001b[0;34m:\u001b[0m\u001b[0;34m\u001b[0m\u001b[0;34m\u001b[0m\u001b[0m\n\u001b[0;32m--> 211\u001b[0;31m         \u001b[0mloader_impl\u001b[0m\u001b[0;34m.\u001b[0m\u001b[0mparse_saved_model\u001b[0m\u001b[0;34m(\u001b[0m\u001b[0mfilepath\u001b[0m\u001b[0;34m)\u001b[0m\u001b[0;34m\u001b[0m\u001b[0;34m\u001b[0m\u001b[0m\n\u001b[0m\u001b[1;32m    212\u001b[0m         \u001b[0;32mreturn\u001b[0m \u001b[0msaved_model_load\u001b[0m\u001b[0;34m.\u001b[0m\u001b[0mload\u001b[0m\u001b[0;34m(\u001b[0m\u001b[0mfilepath\u001b[0m\u001b[0;34m,\u001b[0m \u001b[0mcompile\u001b[0m\u001b[0;34m,\u001b[0m \u001b[0moptions\u001b[0m\u001b[0;34m)\u001b[0m\u001b[0;34m\u001b[0m\u001b[0;34m\u001b[0m\u001b[0m\n\u001b[1;32m    213\u001b[0m \u001b[0;34m\u001b[0m\u001b[0m\n",
      "\u001b[0;32m~/.miniconda3/envs/poker/lib/python3.8/site-packages/tensorflow/python/saved_model/loader_impl.py\u001b[0m in \u001b[0;36mparse_saved_model\u001b[0;34m(export_dir)\u001b[0m\n\u001b[1;32m    109\u001b[0m       \u001b[0;32mraise\u001b[0m \u001b[0mIOError\u001b[0m\u001b[0;34m(\u001b[0m\u001b[0;34m\"Cannot parse file %s: %s.\"\u001b[0m \u001b[0;34m%\u001b[0m \u001b[0;34m(\u001b[0m\u001b[0mpath_to_pbtxt\u001b[0m\u001b[0;34m,\u001b[0m \u001b[0mstr\u001b[0m\u001b[0;34m(\u001b[0m\u001b[0me\u001b[0m\u001b[0;34m)\u001b[0m\u001b[0;34m)\u001b[0m\u001b[0;34m)\u001b[0m\u001b[0;34m\u001b[0m\u001b[0;34m\u001b[0m\u001b[0m\n\u001b[1;32m    110\u001b[0m   \u001b[0;32melse\u001b[0m\u001b[0;34m:\u001b[0m\u001b[0;34m\u001b[0m\u001b[0;34m\u001b[0m\u001b[0m\n\u001b[0;32m--> 111\u001b[0;31m     raise IOError(\"SavedModel file does not exist at: %s/{%s|%s}\" %\n\u001b[0m\u001b[1;32m    112\u001b[0m                   (export_dir,\n\u001b[1;32m    113\u001b[0m                    \u001b[0mconstants\u001b[0m\u001b[0;34m.\u001b[0m\u001b[0mSAVED_MODEL_FILENAME_PBTXT\u001b[0m\u001b[0;34m,\u001b[0m\u001b[0;34m\u001b[0m\u001b[0;34m\u001b[0m\u001b[0m\n",
      "\u001b[0;31mOSError\u001b[0m: SavedModel file does not exist at: trained_models/action_models/random_model/{saved_model.pbtxt|saved_model.pb}"
     ]
    }
   ],
   "source": [
    "clubs_gym.envs.register({env_str: config_dict})\n",
    "env = gym.make(env_str)\n",
    "# env.register_agents([agent_fct() for _ in range(2)])\n",
    "env.register_agents([agent_fct(model_save_path) for model_save_path in [random_model_path, random_model_path]])"
   ]
  },
  {
   "cell_type": "markdown",
   "id": "6201c88e",
   "metadata": {},
   "source": [
    "# The Game traversal"
   ]
  },
  {
   "cell_type": "code",
   "execution_count": null,
   "id": "5704fe99",
   "metadata": {
    "ExecuteTime": {
     "end_time": "2021-04-24T19:52:54.446702Z",
     "start_time": "2021-04-24T19:52:52.883Z"
    }
   },
   "outputs": [],
   "source": [
    "# data logs\n",
    "reward_history = None\n",
    "action_history_p0 = []\n",
    "action_history_p1 = []\n",
    "preflop_history_p0 = []\n",
    "preflop_history_p1 = []"
   ]
  },
  {
   "cell_type": "code",
   "execution_count": null,
   "id": "83b6ac53",
   "metadata": {
    "ExecuteTime": {
     "end_time": "2021-04-24T19:52:54.447094Z",
     "start_time": "2021-04-24T19:52:52.890Z"
    },
    "scrolled": true
   },
   "outputs": [],
   "source": [
    "sleep_time = 1\n",
    "max_action = num_actions\n",
    "\n",
    "if render_mode == 'WebBrowser':\n",
    "    env.reset()\n",
    "    env.render()\n",
    "\n",
    "# if render_mode is None:\n",
    "#     how_many_games = input(\n",
    "#         'Type in how many games should be used for ecaluation and hit enter to start. Games: ')\n",
    "# elif render_mode == 'WebBrowser':\n",
    "#     how_many_games = input(\n",
    "#         'Open the rendered Game (link above), input how many games you wanna see and hit Enter to start. Games: ')\n",
    "# elif render_mode == 'Terminal':\n",
    "#     how_many_games = input(\n",
    "#         'How many games do you wanna see? Hit enter to start. Games: ')\n",
    "# else:\n",
    "#     print(f'Render mode {render_mode}, not supported.')\n",
    "#     raise\n",
    "\n",
    "how_many_games = 500\n",
    "round_counter = []\n",
    "\n",
    "for i in range(int(how_many_games)):\n",
    "    counter = 1\n",
    "    obs = env.reset()\n",
    "    \n",
    "    # display stuff\n",
    "    if render_mode is None:\n",
    "        pass\n",
    "    elif render_mode == 'WebBrowser':\n",
    "        env.render()\n",
    "        time.sleep(sleep_time)\n",
    "    else:\n",
    "        print(f'\\n====================== Game {i} ======================\\n')\n",
    "        print(f'Round: {counter}')\n",
    "        print_obs(obs, num_suits)\n",
    "\n",
    "    history = []\n",
    "    while True:\n",
    "        counter += 1\n",
    "        if render_mode == 'WebBrowser':\n",
    "            time.sleep(sleep_time)   \n",
    "        \n",
    "        # non terminal-state\n",
    "        if all(obs['active']) and not obs['action'] == -1:\n",
    "            # 1.\n",
    "            # agent chooses action based on info_state\n",
    "            info_state = get_info_state(\n",
    "                obs, history, max_bet_number, env.dealer.num_streets, config_dict)\n",
    "            action_idx = env.act(info_state)\n",
    "            \n",
    "            # save bets for plots\n",
    "            if obs['action'] == 0:\n",
    "                action_history_p0.append(action_idx)\n",
    "                if not obs['community_cards']:\n",
    "                    preflop_history_p0.append(action_idx)\n",
    "            else:\n",
    "                action_history_p1.append(action_idx)\n",
    "                if not obs['community_cards']:\n",
    "                    preflop_history_p1.append(action_idx)\n",
    "\n",
    "            # 2.\n",
    "            # take action within environment\n",
    "            bet = action_function(action_idx, obs)\n",
    "            obs, rewards, done, _ = env.step(bet)\n",
    "            history.append(bet)  # for info states\n",
    "\n",
    "            # display stuff\n",
    "            if render_mode is None:\n",
    "                pass\n",
    "            elif render_mode == 'WebBrowser':\n",
    "                env.render()\n",
    "            else:\n",
    "                print(f'Action: {action_idx}')\n",
    "                print(f'Bet: {bet}', end='\\n\\n')\n",
    "                print('----------------------------------------------------\\n')\n",
    "                print(f'Round: {counter}')\n",
    "                print_obs(obs, num_suits)\n",
    "\n",
    "        # terminal state\n",
    "        else:\n",
    "            # save results\n",
    "            if reward_history is None:\n",
    "                reward_history = np.array([rewards])\n",
    "            else:\n",
    "                reward_history = np.append(reward_history, [rewards], axis=0)\n",
    "\n",
    "            # display stuff\n",
    "            if render_mode is None:\n",
    "                if i == int(how_many_games)-1:\n",
    "                    print(f'[INFO] - Done.')\n",
    "            elif render_mode == 'WebBrowser':\n",
    "                live_plot(reward_history, i)\n",
    "            else:\n",
    "                print(f'Payoffs: Player_0 {rewards[0]}, Player_1 {rewards[1]}')\n",
    "\n",
    "            break\n",
    "        \n",
    "    round_counter.append(counter)\n",
    "        \n",
    "print(max(round_counter))"
   ]
  },
  {
   "cell_type": "markdown",
   "id": "d79d6929",
   "metadata": {},
   "source": [
    "# Evaluate the Poker Game"
   ]
  },
  {
   "cell_type": "markdown",
   "id": "d99216c4",
   "metadata": {},
   "source": [
    "Player 0 is the player (agent) that has the trained model."
   ]
  },
  {
   "cell_type": "code",
   "execution_count": null,
   "id": "7c39c2a0",
   "metadata": {
    "ExecuteTime": {
     "end_time": "2021-04-24T19:52:54.447415Z",
     "start_time": "2021-04-24T19:52:52.892Z"
    }
   },
   "outputs": [],
   "source": [
    "if save_plot == True:\n",
    "    fn = 'game_results.svg'\n",
    "save_path = os.path.join(results_dir, fn)\n",
    "\n",
    "# create plot\n",
    "plot_results(reward_history, num_actions, action_history_p0,\n",
    "             action_history_p1, preflop_history_p0, preflop_history_p1, save_path)"
   ]
  },
  {
   "cell_type": "code",
   "execution_count": 2,
   "id": "304ec029",
   "metadata": {
    "ExecuteTime": {
     "end_time": "2021-04-24T23:52:06.502530Z",
     "start_time": "2021-04-24T23:52:06.498585Z"
    }
   },
   "outputs": [
    {
     "data": {
      "text/plain": [
       "array([ 1.58251953,  0.15595845,  0.        , -0.1055013 , -1.56875849])"
      ]
     },
     "execution_count": 2,
     "metadata": {},
     "output_type": "execute_result"
    }
   ],
   "source": [
    "a  = [345, 34, 0, -23, -342]\n",
    "\n",
    "a / np.std(a)"
   ]
  },
  {
   "cell_type": "code",
   "execution_count": null,
   "id": "98de4d3d",
   "metadata": {
    "ExecuteTime": {
     "start_time": "2021-04-26T12:24:58.715Z"
    }
   },
   "outputs": [
    {
     "name": "stdout",
     "output_type": "stream",
     "text": [
      "file 0 of 562567\n",
      "file 5625 of 562567\n",
      "file 11250 of 562567\n",
      "file 16875 of 562567\n",
      "file 22500 of 562567\n",
      "file 28125 of 562567\n",
      "file 33750 of 562567\n",
      "file 39375 of 562567\n",
      "file 45000 of 562567\n",
      "file 50625 of 562567\n",
      "file 56250 of 562567\n",
      "file 61875 of 562567\n",
      "file 67500 of 562567\n",
      "file 73125 of 562567\n",
      "file 78750 of 562567\n",
      "file 84375 of 562567\n",
      "file 90000 of 562567\n",
      "file 95625 of 562567\n",
      "file 101250 of 562567\n",
      "file 106875 of 562567\n",
      "file 112500 of 562567\n",
      "file 118125 of 562567\n",
      "file 123750 of 562567\n",
      "file 129375 of 562567\n",
      "file 135000 of 562567\n",
      "file 140625 of 562567\n",
      "file 146250 of 562567\n",
      "file 151875 of 562567\n",
      "file 157500 of 562567\n",
      "file 163125 of 562567\n",
      "file 168750 of 562567\n",
      "file 174375 of 562567\n",
      "file 180000 of 562567\n",
      "file 185625 of 562567\n",
      "file 191250 of 562567\n",
      "file 196875 of 562567\n",
      "file 202500 of 562567\n",
      "file 208125 of 562567\n",
      "file 213750 of 562567\n",
      "file 219375 of 562567\n",
      "file 225000 of 562567\n",
      "file 230625 of 562567\n",
      "file 236250 of 562567\n",
      "file 241875 of 562567\n",
      "file 247500 of 562567\n",
      "file 253125 of 562567\n",
      "file 258750 of 562567\n",
      "file 264375 of 562567\n",
      "file 270000 of 562567\n",
      "file 275625 of 562567\n",
      "file 281250 of 562567\n",
      "file 286875 of 562567\n",
      "file 292500 of 562567\n",
      "file 298125 of 562567\n",
      "file 303750 of 562567\n",
      "file 309375 of 562567\n",
      "file 315000 of 562567\n",
      "file 320625 of 562567\n",
      "file 326250 of 562567\n",
      "file 331875 of 562567\n",
      "file 337500 of 562567\n",
      "file 343125 of 562567\n",
      "file 348750 of 562567\n",
      "file 354375 of 562567\n",
      "file 360000 of 562567\n",
      "file 365625 of 562567\n",
      "file 371250 of 562567\n"
     ]
    }
   ],
   "source": [
    "import h5py\n",
    "import random\n",
    "file_name = 'memories_action_2-Model/strategy_memory.h5'\n",
    "\n",
    "with h5py.File(file_name,\"r\") as hf:\n",
    "    \n",
    "    l = hf.get(\"counter\")[1]\n",
    "    \n",
    "    for i in range(l):\n",
    "        stored_vector = np.array(hf.get(\"data\")[i])\n",
    "        \n",
    "        if np.all(np.isfinite(stored_vector)):\n",
    "            if not i % (l//100):\n",
    "                print(f'file {i} of {l}')\n",
    "        else:\n",
    "            print(f'idx {i}')\n",
    "            print(stored_vector)"
   ]
  }
 ],
 "metadata": {
  "kernelspec": {
   "display_name": "Python 3",
   "language": "python",
   "name": "python3"
  },
  "language_info": {
   "codemirror_mode": {
    "name": "ipython",
    "version": 3
   },
   "file_extension": ".py",
   "mimetype": "text/x-python",
   "name": "python",
   "nbconvert_exporter": "python",
   "pygments_lexer": "ipython3",
   "version": "3.8.2"
  },
  "toc": {
   "base_numbering": 1,
   "nav_menu": {},
   "number_sections": true,
   "sideBar": true,
   "skip_h1_title": false,
   "title_cell": "Table of Contents",
   "title_sidebar": "Contents",
   "toc_cell": false,
   "toc_position": {
    "height": "calc(100% - 180px)",
    "left": "10px",
    "top": "150px",
    "width": "407px"
   },
   "toc_section_display": true,
   "toc_window_display": true
  },
  "varInspector": {
   "cols": {
    "lenName": 16,
    "lenType": 16,
    "lenVar": 40
   },
   "kernels_config": {
    "python": {
     "delete_cmd_postfix": "",
     "delete_cmd_prefix": "del ",
     "library": "var_list.py",
     "varRefreshCmd": "print(var_dic_list())"
    },
    "r": {
     "delete_cmd_postfix": ") ",
     "delete_cmd_prefix": "rm(",
     "library": "var_list.r",
     "varRefreshCmd": "cat(var_dic_list()) "
    }
   },
   "types_to_exclude": [
    "module",
    "function",
    "builtin_function_or_method",
    "instance",
    "_Feature"
   ],
   "window_display": false
  }
 },
 "nbformat": 4,
 "nbformat_minor": 5
}
