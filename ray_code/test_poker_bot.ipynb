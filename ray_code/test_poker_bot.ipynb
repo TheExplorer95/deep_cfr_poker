{
 "cells": [
  {
   "cell_type": "code",
   "execution_count": 1,
   "id": "303ea071",
   "metadata": {
    "ExecuteTime": {
     "end_time": "2021-04-25T14:41:21.654779Z",
     "start_time": "2021-04-25T14:41:20.327304Z"
    }
   },
   "outputs": [
    {
     "name": "stdout",
     "output_type": "stream",
     "text": [
      "[INFO] - Models trained on GPU, with memory growth activated.\n"
     ]
    }
   ],
   "source": [
    "from utils import get_info_state, activate_memory_growth, print_obs; activate_memory_growth(cpu=False)\n",
    "from tqdm import trange\n",
    "from IPython.display import clear_output\n",
    "import time\n",
    "import numpy as np\n",
    "from random import shuffle\n",
    "from poker_agent import TensorflowAgent, Bet_Fct\n",
    "from jupyter_nb_utils import cumulative_reward, plot_results, live_plot\n",
    "import gym\n",
    "import clubs_gym\n",
    "import clubs\n",
    "import tensorflow as tf\n",
    "from datetime import datetime\n",
    "import pickle\n",
    "import os\n",
    "\n",
    "%matplotlib inline"
   ]
  },
  {
   "cell_type": "code",
   "execution_count": 2,
   "id": "f73cdd20",
   "metadata": {
    "ExecuteTime": {
     "end_time": "2021-04-25T14:41:21.657920Z",
     "start_time": "2021-04-25T14:41:21.655799Z"
    }
   },
   "outputs": [],
   "source": [
    "# create result path\n",
    "t_start = datetime.now()\n",
    "datetime_str = t_start.strftime('%Y%m%d-%H%M%S')\n",
    "results_dir = os.path.join('results_eval', datetime_str + '_evaluate-bot-action')\n",
    "\n",
    "if not os.path.isdir(results_dir):\n",
    "    os.makedirs(results_dir)"
   ]
  },
  {
   "cell_type": "markdown",
   "id": "47370081",
   "metadata": {},
   "source": [
    "# INFO\n",
    "\n",
    "With this Jupyter Notebook, you can <b>evaluate</b> your trained <b>strategy networks</b> and <b>advantage networks</b>."
   ]
  },
  {
   "cell_type": "markdown",
   "id": "3a7a0f66",
   "metadata": {},
   "source": [
    "# Create the Poker Environment"
   ]
  },
  {
   "cell_type": "markdown",
   "id": "7b2446c5",
   "metadata": {},
   "source": [
    "Set you preferred display style and choose whether to save the file.\n",
    "\n",
    "<b>render_mode == 'WebBrowser'</b> <br>\n",
    "You can watch the Poker Game within a web browser of your choice, additionally you will have live payoff statistics for the games played within the jupyter notebook. To have this featrue propperly working, you should use the club_gym env provided on its GitHub repo.<br>\n",
    "-> Slow implementation: uses time.sleep() to slow down the game, to be able to follow the game plays\n",
    "\n",
    "<b>render_mode == 'Terminal'</b> <br>\n",
    "You can see the Poker Game within the Jupyter output (faster and better for evaluation of many games)\n",
    "\n",
    "<b>render_mode == None</b> <br>\n",
    "No display of the results during play.\n",
    "\n",
    "<b>save_plot == True/False</b> <br>\n",
    "To save or not save the plot to the results folder.\n",
    "\n",
    "<b>eval_strategy_net == True/False</b> <br>\n",
    "What kind of architecture you want to evaluate andvantage or strategy."
   ]
  },
  {
   "cell_type": "code",
   "execution_count": 3,
   "id": "a51b1a9b",
   "metadata": {
    "ExecuteTime": {
     "end_time": "2021-04-25T14:41:21.667510Z",
     "start_time": "2021-04-25T14:41:21.659561Z"
    }
   },
   "outputs": [],
   "source": [
    "render_mode = \"Terminal\"\n",
    "save_plot = True\n",
    "eval_strategy_net = False"
   ]
  },
  {
   "cell_type": "markdown",
   "id": "98f3faa0",
   "metadata": {},
   "source": [
    "## Parameter settings for the Agents"
   ]
  },
  {
   "cell_type": "code",
   "execution_count": 4,
   "id": "03574ac3",
   "metadata": {
    "ExecuteTime": {
     "end_time": "2021-04-25T14:41:21.672417Z",
     "start_time": "2021-04-25T14:41:21.668365Z"
    }
   },
   "outputs": [],
   "source": [
    "# model paths\n",
    "trained_model_path = 'trained_models/action_2_models/training_batch_size_512/advantage-network_player-0_CRF-iteration-13'\n",
    "random_model_path = 'trained_models/action_2_models/training_batch_size_512/random_value_model'\n",
    "\n",
    "# model type\n",
    "model_output_types = ['action', 'action_2', 'bet']\n",
    "model_type = model_output_types[1]\n",
    "bet_fct = Bet_Fct(model_type)\n",
    "\n",
    "# Agent used for sampling\n",
    "agent_fct = TensorflowAgent"
   ]
  },
  {
   "cell_type": "markdown",
   "id": "dce34af0",
   "metadata": {},
   "source": [
    "## Parameter settings for the poker (clubs_gym) environment"
   ]
  },
  {
   "cell_type": "code",
   "execution_count": 5,
   "id": "cfce5eab",
   "metadata": {
    "ExecuteTime": {
     "end_time": "2021-04-25T14:41:21.677615Z",
     "start_time": "2021-04-25T14:41:21.673260Z"
    }
   },
   "outputs": [],
   "source": [
    "# Set game parameters\n",
    "env_str = 'LDRL-Poker-v0'\n",
    "num_players = 2\n",
    "num_streets = 2\n",
    "num_raises = 3\n",
    "num_actions = 4\n",
    "num_cards = [2, 3]\n",
    "num_suits = 4\n",
    "num_ranks = 13\n",
    "\n",
    "# automatic setting of some params\n",
    "n_community_cards = [0] + num_cards[1:]\n",
    "n_cards_for_hand = min(5, sum(num_cards))\n",
    "max_bet_number =  num_streets * (num_raises + ((num_players-1) * 2))\n",
    "\n",
    "# environment params dict\n",
    "config_dict = {'num_players': num_players,\n",
    "               'num_streets': num_streets,\n",
    "               'blinds': [1, 2],\n",
    "               'antes': 0,\n",
    "               'raise_sizes': 'pot',\n",
    "               'num_raises': num_raises,\n",
    "               'num_suits': num_suits,\n",
    "               'num_ranks': num_ranks,\n",
    "               'num_hole_cards': num_cards[0],\n",
    "               'mandatory_num_hole_cards': 0,\n",
    "               'num_community_cards': n_community_cards,\n",
    "               'start_stack': 10_000_000,\n",
    "               'num_cards_for_hand': n_cards_for_hand}"
   ]
  },
  {
   "cell_type": "markdown",
   "id": "6b97305f",
   "metadata": {},
   "source": [
    "## Initialization of the Poker environment"
   ]
  },
  {
   "cell_type": "code",
   "execution_count": 6,
   "id": "4b45af66",
   "metadata": {
    "ExecuteTime": {
     "end_time": "2021-04-25T14:41:22.713403Z",
     "start_time": "2021-04-25T14:41:21.679069Z"
    }
   },
   "outputs": [],
   "source": [
    "clubs_gym.envs.register({env_str: config_dict})\n",
    "env = gym.make(env_str)\n",
    "\n",
    "# create new agents\n",
    "if eval_strategy_net:\n",
    "    # strategy network output are already the regret_matched advantage values\n",
    "    env.register_agents([agent_fct(model_save_path, regr_matching=False)\n",
    "                        for model_save_path in [trained_model_path, random_model_path]])\n",
    "else:\n",
    "    # advantage network output are the advantage values\n",
    "    env.register_agents([agent_fct(model_save_path) for model_save_path in [\n",
    "                        trained_model_path, random_model_path]])"
   ]
  },
  {
   "cell_type": "markdown",
   "id": "6201c88e",
   "metadata": {},
   "source": [
    "# The Game traversal"
   ]
  },
  {
   "cell_type": "code",
   "execution_count": 7,
   "id": "5704fe99",
   "metadata": {
    "ExecuteTime": {
     "end_time": "2021-04-25T14:41:22.716601Z",
     "start_time": "2021-04-25T14:41:22.715038Z"
    }
   },
   "outputs": [],
   "source": [
    "# data logs\n",
    "reward_history = None\n",
    "action_history_p0 = []\n",
    "action_history_p1 = []\n",
    "preflop_history_p0 = []\n",
    "preflop_history_p1 = []"
   ]
  },
  {
   "cell_type": "code",
   "execution_count": 8,
   "id": "83b6ac53",
   "metadata": {
    "ExecuteTime": {
     "end_time": "2021-04-25T14:41:25.349957Z",
     "start_time": "2021-04-25T14:41:22.717329Z"
    },
    "scrolled": true
   },
   "outputs": [
    {
     "name": "stdout",
     "output_type": "stream",
     "text": [
      "How many games do you wanna see? Hit enter to start. Games: 2\n",
      "\n",
      "====================== Game 0 ======================\n",
      "\n",
      "Round: 1\n",
      "------------------- game Stats -------------------\n",
      "community_cards: []\n",
      "Dealer/Button: 1\n",
      "Pot: 3\n",
      "Commits: player_0 2, player_1 1\n",
      "\n",
      "---------------- player 1's turn ----------------\n",
      "hole_cards: [Card (139840045941280): J♥, Card (139840045931296): 6♦]\n",
      "call: 1, min_raise: 3, max_raise: 5\n",
      "\n",
      "Action of the bot: 2\n",
      "Bet: 2\n",
      "\n",
      "----------------------------------------------------\n",
      "\n",
      "Round: 2\n",
      "------------------- game Stats -------------------\n",
      "community_cards: []\n",
      "Dealer/Button: 1\n",
      "Pot: 4\n",
      "Commits: player_0 2, player_1 2\n",
      "\n",
      "---------------- player 0's turn ----------------\n",
      "hole_cards: [Card (139840045941952): K♠, Card (139840045932256): 9♠]\n",
      "call: 0, min_raise: 2, max_raise: 4\n",
      "\n",
      "Action of the bot: 0\n",
      "Bet: 0\n",
      "\n",
      "----------------------------------------------------\n",
      "\n",
      "Round: 3\n",
      "------------------- game Stats -------------------\n",
      "community_cards: [Card (139840045932016): 8♦, Card (139840045941376): J♦, Card (139840045931056): 6♠]\n",
      "Dealer/Button: 1\n",
      "Pot: 4\n",
      "Commits: player_0 0, player_1 0\n",
      "\n",
      "---------------- player 0's turn ----------------\n",
      "hole_cards: [Card (139840045941952): K♠, Card (139840045932256): 9♠]\n",
      "call: 0, min_raise: 2, max_raise: 4\n",
      "\n",
      "Action of the bot: 1\n",
      "Bet: 0\n",
      "\n",
      "----------------------------------------------------\n",
      "\n",
      "Round: 4\n",
      "------------------- game Stats -------------------\n",
      "community_cards: [Card (139840045932016): 8♦, Card (139840045941376): J♦, Card (139840045931056): 6♠]\n",
      "Dealer/Button: 1\n",
      "Pot: 4\n",
      "Commits: player_0 0, player_1 0\n",
      "\n",
      "---------------- player 1's turn ----------------\n",
      "hole_cards: [Card (139840045941280): J♥, Card (139840045931296): 6♦]\n",
      "call: 0, min_raise: 2, max_raise: 4\n",
      "\n",
      "Action of the bot: 2\n",
      "Bet: 2\n",
      "\n",
      "----------------------------------------------------\n",
      "\n",
      "Round: 5\n",
      "------------------- game Stats -------------------\n",
      "community_cards: [Card (139840045932016): 8♦, Card (139840045941376): J♦, Card (139840045931056): 6♠]\n",
      "Dealer/Button: 1\n",
      "Pot: 6\n",
      "Commits: player_0 0, player_1 2\n",
      "\n",
      "---------------- player 0's turn ----------------\n",
      "hole_cards: [Card (139840045941952): K♠, Card (139840045932256): 9♠]\n",
      "call: 2, min_raise: 4, max_raise: 10\n",
      "\n",
      "Action of the bot: 0\n",
      "Bet: 0\n",
      "\n",
      "----------------------------------------------------\n",
      "\n",
      "Round: 6\n",
      "------------------- game Stats -------------------\n",
      "community_cards: [Card (139840045932016): 8♦, Card (139840045941376): J♦, Card (139840045931056): 6♠]\n",
      "Dealer/Button: 1\n",
      "Pot: 0\n",
      "Commits: player_0 0, player_1 0\n",
      "\n",
      "[INFO] - End of the Game.\n",
      "Payoffs: Player_0 -2, Player_1 2\n",
      "\n",
      "====================== Game 1 ======================\n",
      "\n",
      "Round: 1\n",
      "------------------- game Stats -------------------\n",
      "community_cards: []\n",
      "Dealer/Button: 0\n",
      "Pot: 3\n",
      "Commits: player_0 1, player_1 2\n",
      "\n",
      "---------------- player 0's turn ----------------\n",
      "hole_cards: [Card (139840045942048): K♥, Card (139840045931296): 6♦]\n",
      "call: 1, min_raise: 3, max_raise: 5\n",
      "\n",
      "Action of the bot: 1\n",
      "Bet: 1\n",
      "\n",
      "----------------------------------------------------\n",
      "\n",
      "Round: 2\n",
      "------------------- game Stats -------------------\n",
      "community_cards: []\n",
      "Dealer/Button: 0\n",
      "Pot: 4\n",
      "Commits: player_0 2, player_1 2\n",
      "\n",
      "---------------- player 1's turn ----------------\n",
      "hole_cards: [Card (139840045941376): J♦, Card (139840045942528): A♦]\n",
      "call: 0, min_raise: 2, max_raise: 4\n",
      "\n",
      "Action of the bot: 0\n",
      "Bet: 0\n",
      "\n",
      "----------------------------------------------------\n",
      "\n",
      "Round: 3\n",
      "------------------- game Stats -------------------\n",
      "community_cards: [Card (139840045929520): 2♥, Card (139840045929424): 2♠, Card (139840045941280): J♥]\n",
      "Dealer/Button: 0\n",
      "Pot: 4\n",
      "Commits: player_0 0, player_1 0\n",
      "\n",
      "---------------- player 1's turn ----------------\n",
      "hole_cards: [Card (139840045941376): J♦, Card (139840045942528): A♦]\n",
      "call: 0, min_raise: 2, max_raise: 4\n",
      "\n",
      "Action of the bot: 1\n",
      "Bet: 0\n",
      "\n",
      "----------------------------------------------------\n",
      "\n",
      "Round: 4\n",
      "------------------- game Stats -------------------\n",
      "community_cards: [Card (139840045929520): 2♥, Card (139840045929424): 2♠, Card (139840045941280): J♥]\n",
      "Dealer/Button: 0\n",
      "Pot: 4\n",
      "Commits: player_0 0, player_1 0\n",
      "\n",
      "---------------- player 0's turn ----------------\n",
      "hole_cards: [Card (139840045942048): K♥, Card (139840045931296): 6♦]\n",
      "call: 0, min_raise: 2, max_raise: 4\n",
      "\n",
      "Action of the bot: 1\n",
      "Bet: 0\n",
      "\n",
      "----------------------------------------------------\n",
      "\n",
      "Round: 5\n",
      "------------------- game Stats -------------------\n",
      "community_cards: [Card (139840045929520): 2♥, Card (139840045929424): 2♠, Card (139840045941280): J♥]\n",
      "Dealer/Button: 0\n",
      "Pot: 0\n",
      "Commits: player_0 0, player_1 0\n",
      "\n",
      "[INFO] - End of the Game.\n",
      "Payoffs: Player_0 -2, Player_1 2\n"
     ]
    }
   ],
   "source": [
    "sleep_time = 1\n",
    "max_action = num_actions\n",
    "\n",
    "if render_mode == 'WebBrowser':\n",
    "    env.reset()\n",
    "    env.render()\n",
    "\n",
    "if render_mode is None:\n",
    "    how_many_games = input(\n",
    "        'Type in how many games should be used for ecaluation and hit enter to start. Games: ')\n",
    "elif render_mode == 'WebBrowser':\n",
    "    how_many_games = input(\n",
    "        'Open the rendered Game (link above), input how many games you wanna see and hit Enter to start. Games: ')\n",
    "elif render_mode == 'Terminal':\n",
    "    how_many_games = input(\n",
    "        'How many games do you wanna see? Hit enter to start. Games: ')\n",
    "else:\n",
    "    print(f'Render mode {render_mode}, not supported.')\n",
    "    raise\n",
    "    \n",
    "for i in range(int(how_many_games)):\n",
    "    obs = env.reset()\n",
    "    counter = 1\n",
    "    # display stuff\n",
    "    if render_mode is None:\n",
    "        pass\n",
    "    elif render_mode == 'WebBrowser':\n",
    "        env.render()\n",
    "        time.sleep(sleep_time)\n",
    "    else:\n",
    "        print(f'\\n====================== Game {i} ======================\\n')\n",
    "        print(f'Round: {counter}')\n",
    "        print_obs(obs, num_suits)\n",
    "\n",
    "    history = []\n",
    "    while True:\n",
    "        counter += 1\n",
    "        \n",
    "        if render_mode == 'WebBrowser':\n",
    "            time.sleep(sleep_time)\n",
    "\n",
    "        # non terminal-state\n",
    "        if all(obs['active']) and not obs['action'] == -1:\n",
    "            # 1.\n",
    "            # agent chooses action based on info_state\n",
    "            info_state = get_info_state(\n",
    "                obs, history, max_bet_number, env.dealer.num_streets, config_dict)\n",
    "            action_idx = env.act(info_state)\n",
    "\n",
    "            # save bets for plots\n",
    "            if obs['action'] == 0:\n",
    "                action_history_p0.append(action_idx)\n",
    "                if not obs['community_cards']:\n",
    "                    preflop_history_p0.append(action_idx)\n",
    "            else:\n",
    "                action_history_p1.append(action_idx)\n",
    "                if not obs['community_cards']:\n",
    "                    preflop_history_p1.append(action_idx)\n",
    "\n",
    "            # 2.\n",
    "            # take action within environment\n",
    "            bet = bet_fct(action_idx, obs)\n",
    "            obs, rewards, done, _ = env.step(bet)\n",
    "            history.append(bet)  # for info states\n",
    "\n",
    "            # display stuff\n",
    "            if render_mode is None:\n",
    "                pass\n",
    "            elif render_mode == 'WebBrowser':\n",
    "                env.render()\n",
    "            else:\n",
    "                print(f'Action of the bot: {action_idx}')\n",
    "                print(f'Bet: {bet}', end='\\n\\n')\n",
    "                print('----------------------------------------------------\\n')\n",
    "                print(f'Round: {counter}')\n",
    "                print_obs(obs, num_suits)\n",
    "\n",
    "        # terminal state\n",
    "        else:\n",
    "            # save results\n",
    "            if reward_history is None:\n",
    "                reward_history = np.array([rewards])\n",
    "            else:\n",
    "                reward_history = np.append(reward_history, [rewards], axis=0)\n",
    "\n",
    "            # display stuff\n",
    "            if render_mode is None:\n",
    "                if not i % (int(how_many_games)//10):\n",
    "                    print(f'[INFO] - Finished traversals: {i}')\n",
    "                \n",
    "                if i == int(how_many_games)-1:\n",
    "                    print(f'[INFO] - Done.')\n",
    "            elif render_mode == 'WebBrowser':\n",
    "                live_plot(reward_history, i)\n",
    "            else:\n",
    "                print(f'Payoffs: Player_0 {rewards[0]}, Player_1 {rewards[1]}')\n",
    "\n",
    "            break"
   ]
  },
  {
   "cell_type": "code",
   "execution_count": 9,
   "id": "8e6887f3",
   "metadata": {
    "ExecuteTime": {
     "end_time": "2021-04-25T14:41:25.353201Z",
     "start_time": "2021-04-25T14:41:25.350803Z"
    }
   },
   "outputs": [],
   "source": [
    "# save experiment data\n",
    "exp_data = {'reward_history': reward_history,\n",
    "            'action_history_p0': action_history_p0,\n",
    "            'action_history_p1': action_history_p1,\n",
    "            'preflop_history_p0': preflop_history_p0,\n",
    "            'preflop_history_p1': preflop_history_p1}\n",
    "\n",
    "fn_exp_data = os.path.join(results_dir, f\"{trained_model_path.split('/')[-1]}_lossData.pkl\")\n",
    "\n",
    "with open(fn_exp_data, 'wb') as f:\n",
    "    pickle.dump(exp_data, f)"
   ]
  },
  {
   "cell_type": "markdown",
   "id": "d79d6929",
   "metadata": {},
   "source": [
    "# Evaluate the Poker Game"
   ]
  },
  {
   "cell_type": "markdown",
   "id": "d99216c4",
   "metadata": {},
   "source": [
    "Player 0 is the player (agent) that has the trained model."
   ]
  },
  {
   "cell_type": "code",
   "execution_count": 10,
   "id": "7c39c2a0",
   "metadata": {
    "ExecuteTime": {
     "end_time": "2021-04-25T14:41:25.960568Z",
     "start_time": "2021-04-25T14:41:25.353990Z"
    }
   },
   "outputs": [
    {
     "data": {
      "image/png": "[encoded data removed]",
      "text/plain": [
       "<Figure size 864x1080 with 4 Axes>"
      ]
     },
     "metadata": {},
     "output_type": "display_data"
    }
   ],
   "source": [
    "if save_plot:\n",
    "    fn = 'game_results.svg'\n",
    "save_path = os.path.join(results_dir, fn)\n",
    "\n",
    "# create plot\n",
    "plot_results(reward_history, num_actions, action_history_p0,\n",
    "             action_history_p1, preflop_history_p0, preflop_history_p1, save_path)"
   ]
  },
  {
   "cell_type": "code",
   "execution_count": 11,
   "id": "621be03c",
   "metadata": {
    "ExecuteTime": {
     "end_time": "2021-04-25T14:41:25.963846Z",
     "start_time": "2021-04-25T14:41:25.961398Z"
    }
   },
   "outputs": [
    {
     "data": {
      "text/plain": [
       "2.0"
      ]
     },
     "execution_count": 11,
     "metadata": {},
     "output_type": "execute_result"
    }
   ],
   "source": [
    "np.std(reward_history)"
   ]
  }
 ],
 "metadata": {
  "kernelspec": {
   "display_name": "Python 3",
   "language": "python",
   "name": "python3"
  },
  "language_info": {
   "codemirror_mode": {
    "name": "ipython",
    "version": 3
   },
   "file_extension": ".py",
   "mimetype": "text/x-python",
   "name": "python",
   "nbconvert_exporter": "python",
   "pygments_lexer": "ipython3",
   "version": "3.8.2"
  },
  "toc": {
   "base_numbering": 1,
   "nav_menu": {},
   "number_sections": true,
   "sideBar": true,
   "skip_h1_title": false,
   "title_cell": "Table of Contents",
   "title_sidebar": "Contents",
   "toc_cell": false,
   "toc_position": {},
   "toc_section_display": true,
   "toc_window_display": false
  },
  "varInspector": {
   "cols": {
    "lenName": 16,
    "lenType": 16,
    "lenVar": 40
   },
   "kernels_config": {
    "python": {
     "delete_cmd_postfix": "",
     "delete_cmd_prefix": "del ",
     "library": "var_list.py",
     "varRefreshCmd": "print(var_dic_list())"
    },
    "r": {
     "delete_cmd_postfix": ") ",
     "delete_cmd_prefix": "rm(",
     "library": "var_list.r",
     "varRefreshCmd": "cat(var_dic_list()) "
    }
   },
   "types_to_exclude": [
    "module",
    "function",
    "builtin_function_or_method",
    "instance",
    "_Feature"
   ],
   "window_display": false
  }
 },
 "nbformat": 4,
 "nbformat_minor": 5
}
