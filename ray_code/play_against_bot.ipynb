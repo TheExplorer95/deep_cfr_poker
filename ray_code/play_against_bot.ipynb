{
 "cells": [
  {
   "cell_type": "code",
   "execution_count": null,
   "id": "303ea071",
   "metadata": {
    "ExecuteTime": {
     "end_time": "2021-04-25T15:58:18.412029Z",
     "start_time": "2021-04-25T15:58:17.093349Z"
    }
   },
   "outputs": [],
   "source": [
    "from utils import get_info_state, activate_memory_growth, print_player0_obs; activate_memory_growth(cpu=False)\n",
    "\n",
    "import os\n",
    "from datetime import datetime\n",
    "\n",
    "import numpy as np\n",
    "import clubs_gym\n",
    "import gym\n",
    "\n",
    "from jupyter_nb_utils import plot_results\n",
    "from poker_agent import TensorflowAgent, Bet_Fct\n",
    "\n",
    "%matplotlib inline"
   ]
  },
  {
   "cell_type": "code",
   "execution_count": null,
   "id": "2b1bde05",
   "metadata": {
    "ExecuteTime": {
     "end_time": "2021-04-25T15:58:18.416189Z",
     "start_time": "2021-04-25T15:58:18.413582Z"
    }
   },
   "outputs": [],
   "source": [
    "# create result path\n",
    "t_start = datetime.now()\n",
    "datetime_str = t_start.strftime('%Y%m%d-%H%M%S')\n",
    "results_dir = os.path.join('results_play-against-bot/', datetime_str + '_games-agains-bot')\n",
    "\n",
    "if not os.path.isdir(results_dir):\n",
    "    os.makedirs(results_dir)"
   ]
  },
  {
   "cell_type": "markdown",
   "id": "47370081",
   "metadata": {},
   "source": [
    "# INFO\n",
    "\n",
    "With this Jupyter Notebook, you can <b>play against our trained bot</b> while receiving advices for what action he would have choosen on your turn. Enjoy :)"
   ]
  },
  {
   "cell_type": "code",
   "execution_count": null,
   "id": "7fca743a",
   "metadata": {
    "ExecuteTime": {
     "end_time": "2021-04-25T15:58:18.423869Z",
     "start_time": "2021-04-25T15:58:18.417269Z"
    }
   },
   "outputs": [],
   "source": [
    "start_stack = 1_000"
   ]
  },
  {
   "cell_type": "markdown",
   "id": "c1034e2f",
   "metadata": {},
   "source": [
    "# Create the Poker Environment"
   ]
  },
  {
   "cell_type": "markdown",
   "id": "3589c08b",
   "metadata": {},
   "source": [
    "Parameter settings for the Agents"
   ]
  },
  {
   "cell_type": "code",
   "execution_count": null,
   "id": "cfce5eab",
   "metadata": {
    "ExecuteTime": {
     "end_time": "2021-04-25T15:58:18.431110Z",
     "start_time": "2021-04-25T15:58:18.424725Z"
    }
   },
   "outputs": [],
   "source": [
    "# model paths\n",
    "trained_model_path = 'trained_models/action_2_models/training_batch_size_512/advantage-network_player-0_CRF-iteration-1'\n",
    "\n",
    "# model type\n",
    "model_output_types = ['action', 'action_2', 'bet']\n",
    "model_type = model_output_types[1]\n",
    "bet_fct = Bet_Fct(model_type)\n",
    "\n",
    "# Agent used for opponent\n",
    "agent_fct = TensorflowAgent"
   ]
  },
  {
   "cell_type": "markdown",
   "id": "0f754246",
   "metadata": {},
   "source": [
    "## Parameter settings for the poker (clubs_gym) environment"
   ]
  },
  {
   "cell_type": "code",
   "execution_count": null,
   "id": "4f2d743d",
   "metadata": {
    "ExecuteTime": {
     "end_time": "2021-04-25T15:58:18.436257Z",
     "start_time": "2021-04-25T15:58:18.431899Z"
    }
   },
   "outputs": [],
   "source": [
    "# Set game parameters\n",
    "env_str = 'LDRL-Poker-v0'\n",
    "num_players = 2\n",
    "num_streets = 2\n",
    "num_raises = 3\n",
    "num_actions = 4\n",
    "num_cards = [2, 3]\n",
    "num_suits = 4\n",
    "num_ranks = 13\n",
    "\n",
    "# automatic setting of some params\n",
    "n_community_cards = [0] + num_cards[1:]\n",
    "n_cards_for_hand = min(5, sum(num_cards))\n",
    "max_bet_number = num_streets * (num_raises + ((num_players-1) * 2))\n",
    "\n",
    "# environment params dict\n",
    "config_dict = {'num_players': num_players,\n",
    "               'num_streets': num_streets,\n",
    "               'blinds': [1, 2],\n",
    "               'antes': 0,\n",
    "               'raise_sizes': 'pot',\n",
    "               'num_raises': num_raises,\n",
    "               'num_suits': num_suits,\n",
    "               'num_ranks': num_ranks,\n",
    "               'num_hole_cards': num_cards[0],\n",
    "               'mandatory_num_hole_cards': 0,\n",
    "               'num_community_cards': n_community_cards,\n",
    "               'start_stack': start_stack,\n",
    "               'num_cards_for_hand': n_cards_for_hand}"
   ]
  },
  {
   "cell_type": "markdown",
   "id": "ee42082b",
   "metadata": {},
   "source": [
    "## Initialization of the Poker environment"
   ]
  },
  {
   "cell_type": "code",
   "execution_count": null,
   "id": "4b45af66",
   "metadata": {
    "ExecuteTime": {
     "end_time": "2021-04-25T15:58:19.574950Z",
     "start_time": "2021-04-25T15:58:18.437353Z"
    }
   },
   "outputs": [],
   "source": [
    "clubs_gym.envs.register({env_str: config_dict})\n",
    "env = gym.make(env_str)\n",
    "env.register_agents([agent_fct(model_save_path) for model_save_path in [trained_model_path, trained_model_path]])"
   ]
  },
  {
   "cell_type": "markdown",
   "id": "dede7d9d",
   "metadata": {},
   "source": [
    "# The Game traversal"
   ]
  },
  {
   "cell_type": "markdown",
   "id": "ab2d32a8",
   "metadata": {},
   "source": [
    "The game consists of <b>2 betting rounds</b> with each having <b>3 possible raises</b> in total. The card deck is a normal <b>poker deck</b> (4 suits, 13 ranks, 52 cars). The amount for calling as well as the min and max raise sizes are displayed. Just enter the amount of chips you wanna bet (0 = fold, but sometimes call, depends on the game state) and hit enter each time it's your turn. Tip: You can set the amount of chips you and the bot own at the top of this notebook."
   ]
  },
  {
   "cell_type": "code",
   "execution_count": null,
   "id": "29a6a2cb",
   "metadata": {
    "ExecuteTime": {
     "end_time": "2021-04-25T15:58:19.578391Z",
     "start_time": "2021-04-25T15:58:19.576846Z"
    }
   },
   "outputs": [],
   "source": [
    "# data logs\n",
    "reward_history = None\n",
    "action_history_p0 = []\n",
    "action_history_p1 = []\n",
    "preflop_history_p0 = []\n",
    "preflop_history_p1 = []"
   ]
  },
  {
   "cell_type": "code",
   "execution_count": null,
   "id": "83b6ac53",
   "metadata": {
    "ExecuteTime": {
     "end_time": "2021-04-25T15:58:41.217566Z",
     "start_time": "2021-04-25T15:58:19.579603Z"
    },
    "scrolled": false
   },
   "outputs": [],
   "source": [
    "player = 0\n",
    "bot = 1\n",
    "\n",
    "# how many games\n",
    "how_many_games = input('[Info] - You are player 0\\nHow many games you wanna play? Hit Enter to start.\\nGames:')\n",
    "\n",
    "# Start the Game\n",
    "for i in range(int(how_many_games)):\n",
    "    counter = 1\n",
    "\n",
    "    print(f'\\n+++++++++++++++++++ [Game {i}] +++++++++++++++++++\\n')\n",
    "    print(f'=================== [Round {counter}] ===================\\n')\n",
    "\n",
    "    obs = env.reset()      \n",
    "    history = []\n",
    "    \n",
    "    while True:\n",
    "        counter += 1\n",
    "          \n",
    "        # non terminal-state       \n",
    "        if all(obs['active']) and not obs['action'] == -1:\n",
    "            # Players action\n",
    "            if obs['action'] == player:\n",
    "                # choose bet\n",
    "                info_state = get_info_state(obs, history, max_bet_number, env.dealer.num_streets, config_dict)\n",
    "                action_idx = env.act(info_state)\n",
    "                bet_bot = bet_fct(action_idx, obs)\n",
    "\n",
    "                print_player0_obs(obs, num_suits)    \n",
    "                bet = int(input(f'The Bot would bet {bet_bot} chips.\\nPlace your amount of chips: '))\n",
    "                print()\n",
    "                # make bet within environment\n",
    "                obs, rewards, done, _ = env.step(bet)\n",
    "                 \n",
    "                print(f'=================== [Round {counter}] ===================\\n')\n",
    "\n",
    "            # Bot action\n",
    "            else:\n",
    "                # get bet\n",
    "                info_state = get_info_state(obs, history, max_bet_number, env.dealer.num_streets, config_dict)\n",
    "                action_idx = env.act(info_state)\n",
    "                bet = bet_fct(action_idx, obs)\n",
    "\n",
    "                # make bet within environment\n",
    "                obs, rewards, done, _ = env.step(bet)\n",
    "\n",
    "                print(f\"Bot's bet: {bet}\", end='\\n\\n')\n",
    "                print(f'=================== [Round {counter}] ===================\\n')\n",
    "                \n",
    "                bot_cards = obs['hole_cards']\n",
    "\n",
    "            # save actions for plots\n",
    "            if obs['action'] == 0:\n",
    "                action_history_p0.append(bet)\n",
    "                if not obs['community_cards']:\n",
    "                    preflop_history_p0.append(bet)\n",
    "            else:\n",
    "                action_history_p1.append(bet)\n",
    "                if not obs['community_cards']:\n",
    "                    preflop_history_p1.append(bet)\n",
    "            history.append(bet) \n",
    "        \n",
    "        # terminal state\n",
    "        else:               \n",
    "            # save results      \n",
    "            if reward_history is None:\n",
    "                reward_history = np.array([rewards])\n",
    "            else:\n",
    "                reward_history = np.append(reward_history, [rewards], axis=0)\n",
    "            print('\\n[INFO] - End of the Game.')\n",
    "            print(f'Bot cards: {bot_cards}')\n",
    "            print(f'Payoffs: Player_0 {rewards[0]}, Player_1 {rewards[1]}')\n",
    "                \n",
    "            break\n"
   ]
  },
  {
   "cell_type": "markdown",
   "id": "9c9dfcb5",
   "metadata": {},
   "source": [
    "# Evaluate the Poker Game"
   ]
  },
  {
   "cell_type": "markdown",
   "id": "1178dd47",
   "metadata": {},
   "source": [
    "You are player_0 and the bot player_1. Just decide if you wanna save the plots and run the script below."
   ]
  },
  {
   "cell_type": "code",
   "execution_count": null,
   "id": "f14e7cdb",
   "metadata": {
    "ExecuteTime": {
     "end_time": "2021-04-25T15:58:41.842052Z",
     "start_time": "2021-04-25T15:58:41.218346Z"
    },
    "scrolled": false
   },
   "outputs": [],
   "source": [
    "save_plot = True\n",
    "\n",
    "if save_plot:\n",
    "    fn = 'game_results.svg'\n",
    "save_path = os.path.join(results_dir, fn)\n",
    "\n",
    "# create plot\n",
    "plot_results(reward_history, num_actions, action_history_p0,\n",
    "             action_history_p1, preflop_history_p0, preflop_history_p1, save_path)"
   ]
  }
 ],
 "metadata": {
  "kernelspec": {
   "display_name": "Python 3",
   "language": "python",
   "name": "python3"
  },
  "language_info": {
   "codemirror_mode": {
    "name": "ipython",
    "version": 3
   },
   "file_extension": ".py",
   "mimetype": "text/x-python",
   "name": "python",
   "nbconvert_exporter": "python",
   "pygments_lexer": "ipython3",
   "version": "3.8.2"
  },
  "toc": {
   "base_numbering": 1,
   "nav_menu": {},
   "number_sections": true,
   "sideBar": true,
   "skip_h1_title": false,
   "title_cell": "Table of Contents",
   "title_sidebar": "Contents",
   "toc_cell": false,
   "toc_position": {},
   "toc_section_display": true,
   "toc_window_display": false
  },
  "varInspector": {
   "cols": {
    "lenName": 16,
    "lenType": 16,
    "lenVar": 40
   },
   "kernels_config": {
    "python": {
     "delete_cmd_postfix": "",
     "delete_cmd_prefix": "del ",
     "library": "var_list.py",
     "varRefreshCmd": "print(var_dic_list())"
    },
    "r": {
     "delete_cmd_postfix": ") ",
     "delete_cmd_prefix": "rm(",
     "library": "var_list.r",
     "varRefreshCmd": "cat(var_dic_list()) "
    }
   },
   "types_to_exclude": [
    "module",
    "function",
    "builtin_function_or_method",
    "instance",
    "_Feature"
   ],
   "window_display": false
  }
 },
 "nbformat": 4,
 "nbformat_minor": 5
}
